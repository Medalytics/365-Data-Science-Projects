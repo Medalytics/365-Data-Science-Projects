{
 "cells": [
  {
   "cell_type": "markdown",
   "id": "8e4fabc2",
   "metadata": {},
   "source": [
    "# Forecasting Property Prices with Linear and Regularized Models"
   ]
  },
  {
   "cell_type": "markdown",
   "id": "7d9c4c2e",
   "metadata": {},
   "source": [
    "## Table of Contents"
   ]
  },
  {
   "cell_type": "markdown",
   "id": "8ff30df5",
   "metadata": {},
   "source": [
    "- [1. Introduction](#1.-Introduction)\n",
    "- [2. Exploring the Dataset](#2.-Exploring-the-Dataset)\n",
    "- [3. Preparing the Dataset](#3.-Preparing-the-Dataset)\n",
    "- [4. Building the OLS Linear Model](#4.-Building-the-OLS-Linear-Model)\n",
    "- [5. Applying Ridge and Lasso Regressions](#5.-Applying-Ridge-and-Lasso-Regressions)\n",
    "- [6. Conclusion](#6.-Conclusion)"
   ]
  },
  {
   "cell_type": "markdown",
   "id": "7e6f9972",
   "metadata": {},
   "source": [
    "## 1. Introduction"
   ]
  },
  {
   "cell_type": "markdown",
   "id": "1b79e51d",
   "metadata": {},
   "source": [
    "In this project, we will delve into the analysis of a real estate dataset to predict property prices (in USD) using various regression models. Our dataset includes key features such as the property size (in square feet), year of construction, and the presence of a sea view, most of which are critical in determining property values.\n",
    "\n",
    "We will start by exploring the dataset to understand its structure and the relationships between different features. Following this, we'll prepare the data for modeling, ensuring it's clean and suitable for analysis. \n",
    "\n",
    "We will build an Ordinary Least Squares (OLS) linear regression model to establish a baseline for price predictions. Next, we will enhance our approach by applying Ridge and Lasso regressions, which are techniques designed to address potential overfitting and improve model performance.\n",
    "\n",
    "By comparing these models, we aim to identify the most effective method for predicting real estate prices based on the available features. To begin, let's import the necessary libraries and take a quick look at our dataset."
   ]
  },
  {
   "cell_type": "code",
   "execution_count": 1,
   "id": "bf458846",
   "metadata": {
    "scrolled": true
   },
   "outputs": [
    {
     "data": {
      "text/html": [
       "<div>\n",
       "<style scoped>\n",
       "    .dataframe tbody tr th:only-of-type {\n",
       "        vertical-align: middle;\n",
       "    }\n",
       "\n",
       "    .dataframe tbody tr th {\n",
       "        vertical-align: top;\n",
       "    }\n",
       "\n",
       "    .dataframe thead th {\n",
       "        text-align: right;\n",
       "    }\n",
       "</style>\n",
       "<table border=\"1\" class=\"dataframe\">\n",
       "  <thead>\n",
       "    <tr style=\"text-align: right;\">\n",
       "      <th></th>\n",
       "      <th>price</th>\n",
       "      <th>size</th>\n",
       "      <th>year</th>\n",
       "      <th>view</th>\n",
       "    </tr>\n",
       "  </thead>\n",
       "  <tbody>\n",
       "    <tr>\n",
       "      <th>0</th>\n",
       "      <td>234314.144</td>\n",
       "      <td>643.09</td>\n",
       "      <td>2015</td>\n",
       "      <td>No sea view</td>\n",
       "    </tr>\n",
       "    <tr>\n",
       "      <th>1</th>\n",
       "      <td>228581.528</td>\n",
       "      <td>656.22</td>\n",
       "      <td>2009</td>\n",
       "      <td>No sea view</td>\n",
       "    </tr>\n",
       "    <tr>\n",
       "      <th>2</th>\n",
       "      <td>281626.336</td>\n",
       "      <td>487.29</td>\n",
       "      <td>2018</td>\n",
       "      <td>Sea view</td>\n",
       "    </tr>\n",
       "    <tr>\n",
       "      <th>3</th>\n",
       "      <td>401255.608</td>\n",
       "      <td>1504.75</td>\n",
       "      <td>2015</td>\n",
       "      <td>No sea view</td>\n",
       "    </tr>\n",
       "    <tr>\n",
       "      <th>4</th>\n",
       "      <td>458674.256</td>\n",
       "      <td>1275.46</td>\n",
       "      <td>2009</td>\n",
       "      <td>Sea view</td>\n",
       "    </tr>\n",
       "  </tbody>\n",
       "</table>\n",
       "</div>"
      ],
      "text/plain": [
       "        price     size  year         view\n",
       "0  234314.144   643.09  2015  No sea view\n",
       "1  228581.528   656.22  2009  No sea view\n",
       "2  281626.336   487.29  2018     Sea view\n",
       "3  401255.608  1504.75  2015  No sea view\n",
       "4  458674.256  1275.46  2009     Sea view"
      ]
     },
     "execution_count": 1,
     "metadata": {},
     "output_type": "execute_result"
    }
   ],
   "source": [
    "# Import libraries for data manipulation, visualization, and machine learning\n",
    "from matplotlib.ticker import FuncFormatter\n",
    "import matplotlib.pyplot as plt\n",
    "import seaborn as sns\n",
    "import pandas as pd\n",
    "import numpy as np\n",
    "\n",
    "from sklearn.model_selection import train_test_split, cross_val_score, GridSearchCV\n",
    "from sklearn.linear_model import LinearRegression, Ridge, Lasso\n",
    "from sklearn.feature_selection import f_regression\n",
    "from sklearn.preprocessing import StandardScaler\n",
    "from sklearn.metrics import r2_score\n",
    "\n",
    "# Load the real estate dataset and display the first few rows\n",
    "real_estate = pd.read_csv('Datasets/real_estate_data.csv')\n",
    "real_estate.head()"
   ]
  },
  {
   "cell_type": "markdown",
   "id": "6371fb02",
   "metadata": {},
   "source": [
    "The first five rows show that property prices vary significantly with features such as size, year of construction, and sea view. Typically, larger properties and those with a sea view tend to have higher prices. However, the year of construction shows a mixed impact, with both newer and older properties exhibiting a wide range of prices."
   ]
  },
  {
   "cell_type": "markdown",
   "id": "d9895b8a",
   "metadata": {},
   "source": [
    "## 2. Exploring the Dataset"
   ]
  },
  {
   "cell_type": "markdown",
   "id": "71c8fa64",
   "metadata": {},
   "source": [
    "After loading the real estate dataset, we will explore it further by checking for duplicate rows, missing data, and outliers, and by displaying data types and summary statistics."
   ]
  },
  {
   "cell_type": "code",
   "execution_count": 2,
   "id": "33a25862",
   "metadata": {
    "scrolled": true
   },
   "outputs": [
    {
     "data": {
      "text/plain": [
       "0"
      ]
     },
     "execution_count": 2,
     "metadata": {},
     "output_type": "execute_result"
    }
   ],
   "source": [
    "# Check for the number of duplicate rows in the dataset\n",
    "real_estate.duplicated().sum()"
   ]
  },
  {
   "cell_type": "markdown",
   "id": "6f3a751b",
   "metadata": {},
   "source": [
    "As we can see, the dataset has no duplicate rows."
   ]
  },
  {
   "cell_type": "code",
   "execution_count": 3,
   "id": "62b73702",
   "metadata": {
    "scrolled": true
   },
   "outputs": [
    {
     "name": "stdout",
     "output_type": "stream",
     "text": [
      "<class 'pandas.core.frame.DataFrame'>\n",
      "RangeIndex: 100 entries, 0 to 99\n",
      "Data columns (total 4 columns):\n",
      " #   Column  Non-Null Count  Dtype  \n",
      "---  ------  --------------  -----  \n",
      " 0   price   100 non-null    float64\n",
      " 1   size    100 non-null    float64\n",
      " 2   year    100 non-null    int64  \n",
      " 3   view    100 non-null    object \n",
      "dtypes: float64(2), int64(1), object(1)\n",
      "memory usage: 3.3+ KB\n"
     ]
    }
   ],
   "source": [
    "# Display information about the dataset, including data types and non-null counts\n",
    "real_estate.info()"
   ]
  },
  {
   "cell_type": "markdown",
   "id": "3475ade2",
   "metadata": {},
   "source": [
    "The dataset contains `100` entries with no missing values. The columns `price` and `size` are stored as floats, `year` as an integer, and `view` as a categorical object. The data types are appropriate for analysis, with numerical columns ready for regression and the `view` column suitable for categorical handling."
   ]
  },
  {
   "cell_type": "code",
   "execution_count": 4,
   "id": "17087a22",
   "metadata": {},
   "outputs": [
    {
     "data": {
      "text/html": [
       "<div>\n",
       "<style scoped>\n",
       "    .dataframe tbody tr th:only-of-type {\n",
       "        vertical-align: middle;\n",
       "    }\n",
       "\n",
       "    .dataframe tbody tr th {\n",
       "        vertical-align: top;\n",
       "    }\n",
       "\n",
       "    .dataframe thead th {\n",
       "        text-align: right;\n",
       "    }\n",
       "</style>\n",
       "<table border=\"1\" class=\"dataframe\">\n",
       "  <thead>\n",
       "    <tr style=\"text-align: right;\">\n",
       "      <th></th>\n",
       "      <th>price</th>\n",
       "      <th>size</th>\n",
       "      <th>year</th>\n",
       "      <th>view</th>\n",
       "    </tr>\n",
       "  </thead>\n",
       "  <tbody>\n",
       "    <tr>\n",
       "      <th>count</th>\n",
       "      <td>100.000000</td>\n",
       "      <td>100.000000</td>\n",
       "      <td>100.000000</td>\n",
       "      <td>100</td>\n",
       "    </tr>\n",
       "    <tr>\n",
       "      <th>unique</th>\n",
       "      <td>NaN</td>\n",
       "      <td>NaN</td>\n",
       "      <td>NaN</td>\n",
       "      <td>2</td>\n",
       "    </tr>\n",
       "    <tr>\n",
       "      <th>top</th>\n",
       "      <td>NaN</td>\n",
       "      <td>NaN</td>\n",
       "      <td>NaN</td>\n",
       "      <td>No sea view</td>\n",
       "    </tr>\n",
       "    <tr>\n",
       "      <th>freq</th>\n",
       "      <td>NaN</td>\n",
       "      <td>NaN</td>\n",
       "      <td>NaN</td>\n",
       "      <td>51</td>\n",
       "    </tr>\n",
       "    <tr>\n",
       "      <th>mean</th>\n",
       "      <td>292289.470160</td>\n",
       "      <td>853.024200</td>\n",
       "      <td>2012.600000</td>\n",
       "      <td>NaN</td>\n",
       "    </tr>\n",
       "    <tr>\n",
       "      <th>std</th>\n",
       "      <td>77051.727525</td>\n",
       "      <td>297.941951</td>\n",
       "      <td>4.729021</td>\n",
       "      <td>NaN</td>\n",
       "    </tr>\n",
       "    <tr>\n",
       "      <th>min</th>\n",
       "      <td>154282.128000</td>\n",
       "      <td>479.750000</td>\n",
       "      <td>2006.000000</td>\n",
       "      <td>NaN</td>\n",
       "    </tr>\n",
       "    <tr>\n",
       "      <th>25%</th>\n",
       "      <td>234280.148000</td>\n",
       "      <td>643.330000</td>\n",
       "      <td>2009.000000</td>\n",
       "      <td>NaN</td>\n",
       "    </tr>\n",
       "    <tr>\n",
       "      <th>50%</th>\n",
       "      <td>280590.716000</td>\n",
       "      <td>696.405000</td>\n",
       "      <td>2015.000000</td>\n",
       "      <td>NaN</td>\n",
       "    </tr>\n",
       "    <tr>\n",
       "      <th>75%</th>\n",
       "      <td>335723.696000</td>\n",
       "      <td>1029.322500</td>\n",
       "      <td>2018.000000</td>\n",
       "      <td>NaN</td>\n",
       "    </tr>\n",
       "    <tr>\n",
       "      <th>max</th>\n",
       "      <td>500681.128000</td>\n",
       "      <td>1842.510000</td>\n",
       "      <td>2018.000000</td>\n",
       "      <td>NaN</td>\n",
       "    </tr>\n",
       "  </tbody>\n",
       "</table>\n",
       "</div>"
      ],
      "text/plain": [
       "                price         size         year         view\n",
       "count      100.000000   100.000000   100.000000          100\n",
       "unique            NaN          NaN          NaN            2\n",
       "top               NaN          NaN          NaN  No sea view\n",
       "freq              NaN          NaN          NaN           51\n",
       "mean    292289.470160   853.024200  2012.600000          NaN\n",
       "std      77051.727525   297.941951     4.729021          NaN\n",
       "min     154282.128000   479.750000  2006.000000          NaN\n",
       "25%     234280.148000   643.330000  2009.000000          NaN\n",
       "50%     280590.716000   696.405000  2015.000000          NaN\n",
       "75%     335723.696000  1029.322500  2018.000000          NaN\n",
       "max     500681.128000  1842.510000  2018.000000          NaN"
      ]
     },
     "execution_count": 4,
     "metadata": {},
     "output_type": "execute_result"
    }
   ],
   "source": [
    "# Generate descriptive statistics for all columns, including categorical data\n",
    "real_estate.describe(include='all')"
   ]
  },
  {
   "cell_type": "markdown",
   "id": "7033555f",
   "metadata": {},
   "source": [
    "Property prices range from approximately `154k` to `500k` USD, with a mean of about `$292k`. Property sizes vary from `480` to `1,843` square feet, with an average of `853` square feet. Moreover, properties are distributed across years with a mean year of `2012`. The most common view type is `No sea view`, which appears in `51` entries.\n",
    "\n",
    "To check for outliers in the dataset, we'll create a boxplot for each numerical feature."
   ]
  },
  {
   "cell_type": "code",
   "execution_count": 5,
   "id": "fb1c46a7",
   "metadata": {
    "scrolled": false
   },
   "outputs": [
    {
     "data": {
      "image/png": "[encoded data removed]",
      "text/plain": [
       "<Figure size 1400x600 with 3 Axes>"
      ]
     },
     "metadata": {},
     "output_type": "display_data"
    }
   ],
   "source": [
    "# Apply the 'fivethirtyeight' style\n",
    "plt.style.use('fivethirtyeight')\n",
    "\n",
    "# Create a figure with a single row and three columns of subplots\n",
    "fig, axes = plt.subplots(1, 3, figsize=(14, 6))\n",
    "\n",
    "# Boxplot for 'price' on the first subplot\n",
    "sns.boxplot(data=real_estate, y='price', linewidth=1.2, ax=axes[0])\n",
    "axes[0].set_title('Boxplot of Price (USD)', weight='bold', size=17, pad=8)\n",
    "axes[0].tick_params(axis='y', colors='grey')\n",
    "axes[0].set_ylabel('')\n",
    "\n",
    "# Boxplot for 'size' on the second subplot\n",
    "sns.boxplot(data=real_estate, y='size', linewidth=1.2, ax=axes[1])\n",
    "axes[1].set_title('Boxplot of Size (sq ft)', weight='bold', size=17, pad=8)\n",
    "axes[1].tick_params(axis='y', colors='grey')\n",
    "axes[1].set_ylabel('')\n",
    "\n",
    "# Boxplot for 'year' on the third subplot\n",
    "sns.boxplot(data=real_estate, y='year', linewidth=1.2, ax=axes[2])\n",
    "axes[2].set_title('Boxplot of Year', weight='bold', size=17, pad=8)\n",
    "axes[2].tick_params(axis='y', colors='grey')\n",
    "axes[2].set_ylabel('')\n",
    "\n",
    "# Adjust layout and display the plot\n",
    "plt.tight_layout()\n",
    "plt.show()"
   ]
  },
  {
   "cell_type": "markdown",
   "id": "edefcc57",
   "metadata": {},
   "source": [
    "The property years range from `2006` to `2018`, which appears reasonable. However, we observe some high outliers in both the price and size of properties. Next, we'll calculate the correlation between both features and create a scatter plot of `size` versus `price`."
   ]
  },
  {
   "cell_type": "code",
   "execution_count": 6,
   "id": "f36646eb",
   "metadata": {},
   "outputs": [
    {
     "name": "stdout",
     "output_type": "stream",
     "text": [
      "Correlation between size and price: 0.8630\n"
     ]
    },
    {
     "data": {
      "image/png": "[encoded data removed]",
      "text/plain": [
       "<Figure size 650x400 with 1 Axes>"
      ]
     },
     "metadata": {},
     "output_type": "display_data"
    }
   ],
   "source": [
    "# Calculate and print the correlation between 'size' and 'price'\n",
    "size_price_corr = real_estate['size'].corr(real_estate['price'])\n",
    "print(f\"Correlation between size and price: {size_price_corr:.4f}\")\n",
    "\n",
    "# Set figure size and create a scatter plot with 'size' on x-axis and 'price' on y-axis\n",
    "plt.figure(figsize=(6.5, 4))\n",
    "sns.scatterplot(data=real_estate, x='size', y='price', alpha=0.7)\n",
    "\n",
    "# Set title and axis labels with customized styling\n",
    "plt.title('Scatter Plot of Size vs. Price', weight='bold', size=16, pad=10)\n",
    "plt.ylabel('Price (USD)', c='#333333', labelpad=6, size=11.5)\n",
    "plt.xlabel('Size (sq ft)', c='#333333', labelpad=6, size=11.5)\n",
    "\n",
    "# Customize tick parameters and grid lines\n",
    "plt.xticks(size=12, color='grey')\n",
    "plt.yticks(size=12, color='grey')\n",
    "plt.grid(alpha=0.4)\n",
    "\n",
    "# Display the plot\n",
    "plt.show()"
   ]
  },
  {
   "cell_type": "markdown",
   "id": "b9f24a3a",
   "metadata": {},
   "source": [
    "There is a strong linear correlation of `0.863` between the `size` and `price` columns, indicating that larger property sizes are associated with higher prices. Therefore, the outliers in both `size` and `price` are consistent with this relationship, and we will retain them for training our regression models."
   ]
  },
  {
   "cell_type": "markdown",
   "id": "a037a3fe",
   "metadata": {},
   "source": [
    "## 3. Preparing the Dataset"
   ]
  },
  {
   "cell_type": "markdown",
   "id": "ab0b6b4d",
   "metadata": {},
   "source": [
    "After exploring our dataset, we'll first convert the `view` column to numerical values by mapping `Sea view` to `1` and `No sea view` to `0`. Moreover, we’ll rename the column to `sea_view` for better clarity."
   ]
  },
  {
   "cell_type": "code",
   "execution_count": 7,
   "id": "200236bc",
   "metadata": {
    "scrolled": false
   },
   "outputs": [
    {
     "data": {
      "text/html": [
       "<div>\n",
       "<style scoped>\n",
       "    .dataframe tbody tr th:only-of-type {\n",
       "        vertical-align: middle;\n",
       "    }\n",
       "\n",
       "    .dataframe tbody tr th {\n",
       "        vertical-align: top;\n",
       "    }\n",
       "\n",
       "    .dataframe thead th {\n",
       "        text-align: right;\n",
       "    }\n",
       "</style>\n",
       "<table border=\"1\" class=\"dataframe\">\n",
       "  <thead>\n",
       "    <tr style=\"text-align: right;\">\n",
       "      <th></th>\n",
       "      <th>price</th>\n",
       "      <th>size</th>\n",
       "      <th>year</th>\n",
       "      <th>sea_view</th>\n",
       "    </tr>\n",
       "  </thead>\n",
       "  <tbody>\n",
       "    <tr>\n",
       "      <th>0</th>\n",
       "      <td>234314.144</td>\n",
       "      <td>643.09</td>\n",
       "      <td>2015</td>\n",
       "      <td>0</td>\n",
       "    </tr>\n",
       "    <tr>\n",
       "      <th>1</th>\n",
       "      <td>228581.528</td>\n",
       "      <td>656.22</td>\n",
       "      <td>2009</td>\n",
       "      <td>0</td>\n",
       "    </tr>\n",
       "    <tr>\n",
       "      <th>2</th>\n",
       "      <td>281626.336</td>\n",
       "      <td>487.29</td>\n",
       "      <td>2018</td>\n",
       "      <td>1</td>\n",
       "    </tr>\n",
       "    <tr>\n",
       "      <th>3</th>\n",
       "      <td>401255.608</td>\n",
       "      <td>1504.75</td>\n",
       "      <td>2015</td>\n",
       "      <td>0</td>\n",
       "    </tr>\n",
       "    <tr>\n",
       "      <th>4</th>\n",
       "      <td>458674.256</td>\n",
       "      <td>1275.46</td>\n",
       "      <td>2009</td>\n",
       "      <td>1</td>\n",
       "    </tr>\n",
       "  </tbody>\n",
       "</table>\n",
       "</div>"
      ],
      "text/plain": [
       "        price     size  year  sea_view\n",
       "0  234314.144   643.09  2015         0\n",
       "1  228581.528   656.22  2009         0\n",
       "2  281626.336   487.29  2018         1\n",
       "3  401255.608  1504.75  2015         0\n",
       "4  458674.256  1275.46  2009         1"
      ]
     },
     "execution_count": 7,
     "metadata": {},
     "output_type": "execute_result"
    }
   ],
   "source": [
    "# Convert 'view' column to numerical values and rename it to 'sea_view'\n",
    "real_estate['sea_view'] = real_estate['view'].map({'Sea view': 1, 'No sea view': 0})\n",
    "\n",
    "# Drop the original 'view' column\n",
    "real_estate.drop(['view'], axis=1, inplace=True)\n",
    "\n",
    "# Display the first few rows of the updated DataFrame\n",
    "real_estate.head()"
   ]
  },
  {
   "cell_type": "markdown",
   "id": "f34d338e",
   "metadata": {},
   "source": [
    "Next, we’ll scale the features to ensure that their values are in a similar range."
   ]
  },
  {
   "cell_type": "code",
   "execution_count": 8,
   "id": "26d830eb",
   "metadata": {},
   "outputs": [
    {
     "data": {
      "text/plain": [
       "array([[-0.70816415,  0.51006137, -0.98019606],\n",
       "       [-0.66387316, -0.76509206, -0.98019606],\n",
       "       [-1.23371919,  1.14763808,  1.02020406],\n",
       "       [ 2.19844528,  0.51006137, -0.98019606],\n",
       "       [ 1.42498884, -0.76509206,  1.02020406]])"
      ]
     },
     "execution_count": 8,
     "metadata": {},
     "output_type": "execute_result"
    }
   ],
   "source": [
    "# Select feature columns and target variable\n",
    "X = real_estate[['size', 'year', 'sea_view']]\n",
    "y = real_estate['price']\n",
    "\n",
    "# Initialize StandardScaler to fit and transform the features\n",
    "scaler = StandardScaler()\n",
    "X_scaled = scaler.fit_transform(X)\n",
    "\n",
    "# Display the first 5 rows of the scaled feature data\n",
    "X_scaled[:5, :]"
   ]
  },
  {
   "cell_type": "markdown",
   "id": "bf186d53",
   "metadata": {},
   "source": [
    "## 4. Building the OLS Linear Model"
   ]
  },
  {
   "cell_type": "markdown",
   "id": "203a6e2a",
   "metadata": {},
   "source": [
    "Now that we've fully prepared our dataset, it's time to build the OLS linear regression model. First, it’s crucial to test the individual impact of each feature on the target variable by calculating F-scores and p-values, and to determine whether these relationships are statistically significant.\n",
    "\n",
    "In univariate linear regression, the normality of error terms is crucial for hypothesis testing and calculating p-values. While the F-test assumes normally distributed residuals for validity in small samples, slight deviations from normality typically don't significantly impact results in large datasets.\n",
    "\n",
    "With our sample of `100` observations, the central limit theorem helps ensure that the distribution of error terms approximates normality, even if the underlying error terms are not normally distributed. This makes the assumption of normality less critical."
   ]
  },
  {
   "cell_type": "code",
   "execution_count": 9,
   "id": "4eb83f88",
   "metadata": {
    "scrolled": true
   },
   "outputs": [
    {
     "data": {
      "text/html": [
       "<div>\n",
       "<style scoped>\n",
       "    .dataframe tbody tr th:only-of-type {\n",
       "        vertical-align: middle;\n",
       "    }\n",
       "\n",
       "    .dataframe tbody tr th {\n",
       "        vertical-align: top;\n",
       "    }\n",
       "\n",
       "    .dataframe thead th {\n",
       "        text-align: right;\n",
       "    }\n",
       "</style>\n",
       "<table border=\"1\" class=\"dataframe\">\n",
       "  <thead>\n",
       "    <tr style=\"text-align: right;\">\n",
       "      <th></th>\n",
       "      <th>Feature</th>\n",
       "      <th>F-Score</th>\n",
       "      <th>P-Value</th>\n",
       "    </tr>\n",
       "  </thead>\n",
       "  <tbody>\n",
       "    <tr>\n",
       "      <th>0</th>\n",
       "      <td>size</td>\n",
       "      <td>236.96</td>\n",
       "      <td>0.0000</td>\n",
       "    </tr>\n",
       "    <tr>\n",
       "      <th>1</th>\n",
       "      <td>year</td>\n",
       "      <td>0.81</td>\n",
       "      <td>0.3707</td>\n",
       "    </tr>\n",
       "    <tr>\n",
       "      <th>2</th>\n",
       "      <td>sea_view</td>\n",
       "      <td>11.45</td>\n",
       "      <td>0.0011</td>\n",
       "    </tr>\n",
       "  </tbody>\n",
       "</table>\n",
       "</div>"
      ],
      "text/plain": [
       "    Feature  F-Score  P-Value\n",
       "0      size   236.96   0.0000\n",
       "1      year     0.81   0.3707\n",
       "2  sea_view    11.45   0.0011"
      ]
     },
     "execution_count": 9,
     "metadata": {},
     "output_type": "execute_result"
    }
   ],
   "source": [
    "# Select feature columns and target variable\n",
    "X = real_estate.drop(['price'], axis=1)\n",
    "y = real_estate['price']\n",
    "\n",
    "# Initialize StandardScaler to fit and transform the features\n",
    "scaler = StandardScaler()\n",
    "X_scaled = scaler.fit_transform(X)\n",
    "\n",
    "# Split the data into training and testing sets (80% training, 20% testing)\n",
    "X_train, X_test, y_train, y_test = train_test_split(X_scaled, y, test_size=0.2, random_state=42)\n",
    "\n",
    "# Initialize LinearRegression and fit the OLS model to the training data\n",
    "ols_model = LinearRegression()\n",
    "ols_model.fit(X_train, y_train)\n",
    "\n",
    "# Predict the target values using the test set\n",
    "y_pred = ols_model.predict(X_test)\n",
    "\n",
    "\n",
    "# Perform univariate linear regression test for each feature\n",
    "f_scores, p_values = f_regression(X_train, y_train)\n",
    "\n",
    "# Create a DataFrame with feature names, F-scores, and p-values\n",
    "f_regression_df = pd.DataFrame({\n",
    "    'Feature': ['size', 'year', 'sea_view'],\n",
    "    'F-Score': f_scores.round(2),\n",
    "    'P-Value': p_values.round(4)\n",
    "})\n",
    "\n",
    "# Display the DataFrame\n",
    "f_regression_df"
   ]
  },
  {
   "cell_type": "markdown",
   "id": "b43990f3",
   "metadata": {},
   "source": [
    "The analysis shows that `size` and `sea_view` are highly significant predictors of property prices with F-scores of `236.96` and `11.45`, and p-values of `0.0000` and `0.0011`. In contrast, `year` is not a significant predictor, with an F-score of `0.81` and a p-value of `0.3707`. \n",
    "\n",
    "The p-value of `year` is higher than the typical significance threshold of `0.05`, showing that the relationship between year and property prices is likely due to random chance rather than a strong, consistent effect.\n",
    "\n",
    "Following the same steps as before, we'll select our feature columns (excluding `year`) and the target variable, split the data into training and testing sets, and fit the OLS model to the training data. Afterward, we will evaluate the model's performance using the R-squared metric."
   ]
  },
  {
   "cell_type": "code",
   "execution_count": 10,
   "id": "1319aaa6",
   "metadata": {},
   "outputs": [
    {
     "name": "stdout",
     "output_type": "stream",
     "text": [
      "Training R-squared: 0.8771, Test R-squared: 0.9167\n",
      "Intercept: 292743.18\n",
      "Coefficients: [64779.14 27402.31]\n"
     ]
    }
   ],
   "source": [
    "# Select feature columns except 'year' and target variable\n",
    "X = real_estate[['size', 'sea_view']]\n",
    "y = real_estate['price']\n",
    "\n",
    "# Initialize StandardScaler to fit and transform the features\n",
    "scaler = StandardScaler()\n",
    "X_scaled = scaler.fit_transform(X)\n",
    "\n",
    "# Split the data into training and testing sets (80% training, 20% testing)\n",
    "X_train, X_test, y_train, y_test = train_test_split(X_scaled, y, test_size=0.2, random_state=42)\n",
    "\n",
    "# Initialize LinearRegression and fit the OLS model to the training data\n",
    "ols_model = LinearRegression()\n",
    "ols_model.fit(X_train, y_train)\n",
    "\n",
    "# Calculate R-squared scores for training and test sets\n",
    "train_score = ols_model.score(X_train, y_train)\n",
    "test_score = ols_model.score(X_test, y_test)\n",
    "\n",
    "# Print R-squared scores, intercept, and coefficients\n",
    "print(f'Training R-squared: {train_score:.4f}, Test R-squared: {test_score:.4f}')\n",
    "print(f'Intercept: {ols_model.intercept_.round(2)}')\n",
    "print(f'Coefficients: {ols_model.coef_.round(2)}')"
   ]
  },
  {
   "cell_type": "markdown",
   "id": "ff6c84d9",
   "metadata": {},
   "source": [
    "The OLS model demonstrates strong predictive performance with R-squared values of `0.8771` for training and `0.9167` for testing, indicating very good generalization. The intercept reflects a base price of `$292,743.18`. Moreover, each standard deviation increase in property size raises the price by about `64,779.14 USD`, while having a sea view adds a positive amount to the price. To accurately interpret the coefficient for `sea_view`, we need to reverse the scaling transformation to determine the actual price increase associated with having a sea view.\n",
    "\n",
    "Next, let's calculate the adjusted R-squared. This metric accounts for the number of predictors in the model, providing a more accurate measure of model fit when comparing models with different numbers of features:\n",
    "\n",
    "$$R^2_{adj.} = 1 - (1-R^2)×\\frac{n-1}{n-p-1}$$"
   ]
  },
  {
   "cell_type": "code",
   "execution_count": 11,
   "id": "38350aa8",
   "metadata": {},
   "outputs": [
    {
     "data": {
      "text/plain": [
       "'Adjusted R-squared: 0.9069'"
      ]
     },
     "execution_count": 11,
     "metadata": {},
     "output_type": "execute_result"
    }
   ],
   "source": [
    "# Define a function to calculate adjusted R-squared for a given model and test set\n",
    "def adjusted_r2(model, X_test, y_test):\n",
    "    \n",
    "    # Predict the target values using the test set\n",
    "    y_pred = model.predict(X_test)\n",
    "\n",
    "    # Calculate R-squared with the number of observations and features in the test set\n",
    "    r2 = r2_score(y_test, y_pred)\n",
    "    n = X_test.shape[0]\n",
    "    p = X_test.shape[1]\n",
    "\n",
    "    # Calculate Adjusted R-squared and return the result\n",
    "    adj_r2 = 1 - (1 - r2) * (n - 1) / (n - p - 1)\n",
    "    return f'Adjusted R-squared: {adj_r2:.4f}'\n",
    "\n",
    "# Calculate and return adjusted R-squared for the OLS model\n",
    "adjusted_r2(ols_model, X_test, y_test)"
   ]
  },
  {
   "cell_type": "markdown",
   "id": "9cf6ca56",
   "metadata": {},
   "source": [
    "The adjusted R-squared of `0.9069` is slightly lower than the test R-squared of `0.9167`, indicating that while the model explains a high proportion of the variance in the test set, the adjusted metric accounts for the number of features and provides a more conservative estimate of the model's performance.\n",
    "\n",
    "Next, let's use K-fold cross-validation to ensure the OLS model's performance is reliable and not just tailored to our specific train-test split. This will provide a more robust estimate of the model's generalization ability."
   ]
  },
  {
   "cell_type": "code",
   "execution_count": 12,
   "id": "e6620aba",
   "metadata": {},
   "outputs": [
    {
     "name": "stdout",
     "output_type": "stream",
     "text": [
      "Cross-validated R-squared scores for each fold: [0.85 0.94 0.89 0.85 0.88]\n",
      "Mean Cross-validated R-squared: 0.8808\n"
     ]
    }
   ],
   "source": [
    "# Perform 5-fold cross-validation on the training data and get the R-squared values\n",
    "cv_scores = cross_val_score(ols_model, X_scaled, y, cv=5, scoring='r2')\n",
    "\n",
    "# Print the individual R-squared scores for each fold and the mean R-squared score\n",
    "print(f'Cross-validated R-squared scores for each fold: {cv_scores.round(2)}')\n",
    "print(f'Mean Cross-validated R-squared: {cv_scores.mean():.4f}')"
   ]
  },
  {
   "cell_type": "markdown",
   "id": "e064a4f8",
   "metadata": {},
   "source": [
    "The cross-validated R-squared scores range from `0.85` to `0.94`, with a mean of `0.8808`, showing relatively consistent model performance across different folds. This is comparable to the training R-squared of `0.8771` and the test R-squared of `0.9167`, indicating that the model generalizes well and performs similarly across training, test, and cross-validation sets."
   ]
  },
  {
   "cell_type": "markdown",
   "id": "82fd4f59",
   "metadata": {},
   "source": [
    "## 5. Applying Ridge and Lasso Regressions"
   ]
  },
  {
   "cell_type": "markdown",
   "id": "387b60b2",
   "metadata": {},
   "source": [
    "Ridge regression helps manage correlated features by applying L2 regularization, which can stabilize the estimates. On the other hand, Lasso regression performs L1 regularization, potentially reducing some feature coefficients to zero and aiding in feature selection. \n",
    "\n",
    "Once again, we'll use only the `size` and `sea_view` features for our predictions. In addition, we will optimize Ridge and Lasso regression models, testing various parameters to find the best combination for performance.\n",
    "\n",
    "It's worth noting that [GridSearchCV](https://scikit-learn.org/stable/modules/generated/sklearn.model_selection.GridSearchCV.html) uses cross-validation to evaluate model performance across different parameter combinations. Since it averages the results over multiple data splits, the estimates are generally reliable, reducing the risk of overfitting and providing a more robust estimate of the model's performance."
   ]
  },
  {
   "cell_type": "code",
   "execution_count": 13,
   "id": "c0e61d97",
   "metadata": {},
   "outputs": [
    {
     "name": "stdout",
     "output_type": "stream",
     "text": [
      "Best Parameters: {'alpha': 1, 'max_iter': 100, 'solver': 'sparse_cg'}\n",
      "Training R-squared: 0.8770\n",
      "Test R-squared: 0.9155\n"
     ]
    }
   ],
   "source": [
    "# Define the parameter grid for GridSearchCV\n",
    "param_grid = {\n",
    "    'alpha': [0.1, 1, 10, 100, 1000],\n",
    "    'solver': ['auto', 'svd', 'cholesky', 'lsqr', 'sparse_cg'],\n",
    "    'max_iter': [100, 500, 1000]\n",
    "}\n",
    "\n",
    "# Initialize Ridge and GridSearchCV, and fit GridSearchCV to the training data\n",
    "ridge = Ridge()\n",
    "grid_search = GridSearchCV(estimator=ridge, param_grid=param_grid, cv=5, scoring='r2')\n",
    "grid_search.fit(X_train, y_train)\n",
    "\n",
    "# Extract the best model and its parameters\n",
    "best_model = grid_search.best_estimator_\n",
    "best_params = grid_search.best_params_\n",
    "\n",
    "# Calculate R-squared scores for training and test sets\n",
    "train_score = best_model.score(X_train, y_train)\n",
    "test_score = best_model.score(X_test, y_test)\n",
    "\n",
    "# Print the best parameters and the performance metrics of the optimized model\n",
    "print(f'Best Parameters: {best_params}')\n",
    "print(f'Training R-squared: {train_score:.4f}')\n",
    "print(f'Test R-squared: {test_score:.4f}')"
   ]
  },
  {
   "cell_type": "markdown",
   "id": "384242ea",
   "metadata": {},
   "source": [
    "The Ridge regression model, optimized with `alpha=1`, `max_iter=100`, and `solver='sparse_cg'`, shows strong predictive performance. The training R-squared of `0.8770` indicates that the model fits the training data very well, while the test R-squared of `0.9155` suggests that the model generalizes effectively to unseen data, confirming robustness.\n",
    "\n",
    "The test performance could be better due to random variations in the data or because the test set may contain patterns that the model fits more effectively than the training set. This difference could also suggest that the model avoids overfitting."
   ]
  },
  {
   "cell_type": "code",
   "execution_count": 14,
   "id": "e4a9b5f8",
   "metadata": {},
   "outputs": [
    {
     "name": "stdout",
     "output_type": "stream",
     "text": [
      "Features used by Lasso: ['size' 'sea_view']\n",
      "Best Parameters: {'alpha': 1000, 'max_iter': 100, 'tol': 0.001}\n",
      "Training R-squared: 0.8768\n",
      "Test R-squared: 0.9134\n"
     ]
    }
   ],
   "source": [
    "# Define the parameter grid for GridSearchCV\n",
    "param_grid = {\n",
    "    'alpha': [0.1, 1, 10, 100, 1000],\n",
    "    'max_iter': [100, 500, 1000],\n",
    "    'tol': [0.0001, 0.001, 0.01]\n",
    "}\n",
    "\n",
    "# Initialize Lasso and GridSearchCV, and fit GridSearchCV to the training data\n",
    "lasso = Lasso()\n",
    "grid_search = GridSearchCV(estimator=lasso, param_grid=param_grid, cv=5, scoring='r2')\n",
    "grid_search.fit(X_train, y_train)\n",
    "\n",
    "# Extract the best model and its parameters\n",
    "best_model = grid_search.best_estimator_\n",
    "best_params = grid_search.best_params_\n",
    "\n",
    "# Calculate R-squared scores for training and test sets\n",
    "train_score = best_model.score(X_train, y_train)\n",
    "test_score = best_model.score(X_test, y_test)\n",
    "\n",
    "# Print features used by Lasso (non-zero coefficients)\n",
    "used_features = np.array(X.columns)[best_model.coef_ != 0]\n",
    "print(f'Features used by Lasso: {used_features}')\n",
    "\n",
    "# Print the best parameters and the performance metrics of the optimized model\n",
    "print(f'Best Parameters: {best_params}')\n",
    "print(f'Training R-squared: {train_score:.4f}')\n",
    "print(f'Test R-squared: {test_score:.4f}')"
   ]
  },
  {
   "cell_type": "markdown",
   "id": "6daab3cc",
   "metadata": {},
   "source": [
    "The optimized Lasso model confirmed the importance of the two selected features, `size` and `sea_view`, in predicting property prices. Using `alpha=1000`, `max_iter=100`, and `tol=0.001`, the model delivered strong performance with a training R-squared of `0.8768` and a test R-squared of `0.9134`. This indicates the model effectively captures the relationship between these key features and property prices while generalizing well to new data.\n",
    "\n",
    "The test performance could be better due to random variations in the data or because the test set may contain patterns that the model fits more effectively than the training set. This difference could also suggest that the model avoids overfitting."
   ]
  },
  {
   "cell_type": "markdown",
   "id": "3b8a9d0f",
   "metadata": {},
   "source": [
    "## 6. Conclusion"
   ]
  },
  {
   "cell_type": "markdown",
   "id": "c6a391e2",
   "metadata": {},
   "source": [
    "In this project, we used a real estate dataset to predict property prices (in USD) using three regression models. The dataset includes key features such as property size (in square feet), year of construction, and the presence of a sea view, most of which are critical in determining property values. After loading the data, we checked for duplicate rows, missing data, outliers, and reviewed the data types and summary statistics. The dataset contained `100` entries, with no duplicates or missing values, and the data types were suitable for analysis.\n",
    "\n",
    "To identify outliers, we created a boxplot for each numerical feature. Property years ranged from `2006` to `2018`, which appeared reasonable. Since there is a strong linear correlation of `0.863` between `size` and `price`, indicating that larger properties tend to have higher prices, we retained the outliers in both features for training our regression models. \n",
    "\n",
    "To prepare the data for modeling, we renamed and converted the `view` column to numerical values and scaled the features to ensure similar value ranges. Before building the OLS linear regression model, we used a histogram to check the residual distribution, determining whether we could confidently use the F-test and calculate p-values. Although the residuals weren't perfectly normally distributed, our sample size of `100` observations was sufficient, as minor deviations from normality are generally acceptable in practice.\n",
    "\n",
    "Based on our analysis, we found that the relationship between year and property prices is likely due to random chance rather than a significant, consistent effect. Therefore, we excluded the `year` column from our models:\n",
    "\n",
    "- The OLS model demonstrates strong predictive performance, with R-squared values of `0.8771` for training, `0.9167` for testing, and an adjusted R-squared of `0.9069` on the test data, indicating very good generalization. The intercept suggests a base price of `292,743.18 USD`. Additionally, each standard deviation increase in property size raises the price by approximately `64,779.14 USD`, while having a sea view adds a positive amount to the price.\n",
    "- The cross-validated R-squared scores range from `0.85` to `0.94`, with a mean of `0.8808`, demonstrating relatively consistent model performance across different folds. This suggests that the model generalizes well and performs similarly across the training, test, and cross-validation sets.\n",
    "- We optimized Ridge and Lasso regression models, testing various parameters to find the best performance using [GridSearchCV](https://scikit-learn.org/stable/modules/generated/sklearn.model_selection.GridSearchCV.html). The latter employs cross-validation, averaging the results over multiple data splits, which typically provides reliable estimates and reduces the risk of overfitting.\n",
    "- The optimized Ridge regression model `(alpha=1, max_iter=100, solver='sparse_cg')` demonstrates strong predictive performance, with a training R-squared of `0.8770` and a test R-squared of `0.9155`, indicating effective generalization. Furthermore, the Lasso model `(alpha=1000, max_iter=100, tol=0.001)` confirmed the significance of `size` and `sea_view` in predicting property prices. It achieved a training R-squared of `0.8768` and a test R-squared of `0.9134`, showing robust performance as well.\n",
    "- The slightly better test performance in both models could result from random variations in the data or better fit to patterns in the test set, suggesting that overfitting is not an issue.\n",
    "\n",
    "The OLS, Ridge, and Lasso models all demonstrate strong and comparable performance, with cross-validation affirming their reliability. Additionally, each model predicts effectively without noticeable overfitting."
   ]
  }
 ],
 "metadata": {
  "kernelspec": {
   "display_name": "Python 3 (ipykernel)",
   "language": "python",
   "name": "python3"
  },
  "language_info": {
   "codemirror_mode": {
    "name": "ipython",
    "version": 3
   },
   "file_extension": ".py",
   "mimetype": "text/x-python",
   "name": "python",
   "nbconvert_exporter": "python",
   "pygments_lexer": "ipython3",
   "version": "3.11.5"
  }
 },
 "nbformat": 4,
 "nbformat_minor": 5
}
